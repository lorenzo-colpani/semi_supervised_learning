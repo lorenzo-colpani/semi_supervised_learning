{
 "cells": [
  {
   "cell_type": "markdown",
   "id": "93350dbe",
   "metadata": {},
   "source": [
    "Test best models from mlflow register"
   ]
  },
  {
   "cell_type": "code",
   "execution_count": null,
   "id": "abe77d71",
   "metadata": {},
   "outputs": [
    {
     "name": "stderr",
     "output_type": "stream",
     "text": [
      "c:\\Users\\LorenzoColpani\\Desktop\\repos\\semi_supervised_learning\\.venv\\Lib\\site-packages\\tqdm\\auto.py:21: TqdmWarning: IProgress not found. Please update jupyter and ipywidgets. See https://ipywidgets.readthedocs.io/en/stable/user_install.html\n",
      "  from .autonotebook import tqdm as notebook_tqdm\n"
     ]
    }
   ],
   "source": [
    "import mlflow\n",
    "import mlflow.pytorch\n",
    "import torch\n",
    "from torch.utils.data import DataLoader, TensorDataset\n",
    "from sklearn.datasets import load_iris"
   ]
  },
  {
   "cell_type": "code",
   "execution_count": 2,
   "id": "6d431e91",
   "metadata": {},
   "outputs": [],
   "source": [
    "def load_data(train_batch: int):\n",
    "    iris = load_iris()\n",
    "\n",
    "    X = iris.data\n",
    "    y = iris.target\n",
    "\n",
    "    X_tensor = torch.tensor(X, dtype=torch.float32)\n",
    "    y_tensor = torch.tensor(y, dtype=torch.long)\n",
    "\n",
    "    full_dataset = TensorDataset(X_tensor, y_tensor)\n",
    "    full_dataset_loader = DataLoader(full_dataset, batch_size=train_batch, shuffle=False)\n",
    "    return full_dataset_loader"
   ]
  },
  {
   "cell_type": "code",
   "execution_count": 3,
   "id": "28c83c2c",
   "metadata": {},
   "outputs": [],
   "source": [
    "full_data = load_data(128)"
   ]
  },
  {
   "cell_type": "code",
   "execution_count": 4,
   "id": "3287282a",
   "metadata": {},
   "outputs": [],
   "source": [
    "mlflow.set_tracking_uri(\"http://localhost:8080\")"
   ]
  },
  {
   "cell_type": "code",
   "execution_count": 5,
   "id": "6ff014a9",
   "metadata": {},
   "outputs": [
    {
     "name": "stderr",
     "output_type": "stream",
     "text": [
      "Downloading artifacts: 100%|██████████| 6/6 [00:02<00:00,  2.80it/s]  \n"
     ]
    }
   ],
   "source": [
    "model_name = \"SupervisedIrisModel\"\n",
    "model_vesion = 'latest'\n",
    "\n",
    "model_uri = f\"models:/{model_name}/{model_vesion}\"\n",
    "model = mlflow.pytorch.load_model(model_uri=model_uri)"
   ]
  },
  {
   "cell_type": "code",
   "execution_count": 6,
   "id": "f5f28818",
   "metadata": {},
   "outputs": [
    {
     "name": "stdout",
     "output_type": "stream",
     "text": [
      "Accuracy of the model on the full dataset: 94.66666666666667%\n"
     ]
    }
   ],
   "source": [
    "# evaluate model\n",
    "correct = 0\n",
    "total = 0\n",
    "model.eval()\n",
    "for data, target in full_data:\n",
    "    output = model(data)\n",
    "    _, predicted = torch.max(output.data, 1)\n",
    "    total += target.size(0)\n",
    "    correct += (predicted == target).sum().item()\n",
    "print(f'Accuracy of the model on the full dataset: {100 * correct / total}%')"
   ]
  },
  {
   "cell_type": "code",
   "execution_count": 15,
   "id": "b7e66997",
   "metadata": {},
   "outputs": [
    {
     "name": "stderr",
     "output_type": "stream",
     "text": [
      "Downloading artifacts: 100%|██████████| 6/6 [00:02<00:00,  2.68it/s]  \n"
     ]
    }
   ],
   "source": [
    "model_name = \"SemiSupervisedIrisModel\"\n",
    "model_vesion = 'latest'\n",
    "\n",
    "model_uri = f\"models:/{model_name}/4\"\n",
    "model = mlflow.pytorch.load_model(model_uri=model_uri)"
   ]
  },
  {
   "cell_type": "code",
   "execution_count": 16,
   "id": "70bec76a",
   "metadata": {},
   "outputs": [
    {
     "name": "stdout",
     "output_type": "stream",
     "text": [
      "Accuracy of the model on the full dataset: 90.66666666666667%\n"
     ]
    }
   ],
   "source": [
    "# evaluate model\n",
    "correct = 0\n",
    "total = 0\n",
    "model.eval()\n",
    "for data, target in full_data:\n",
    "    output = model(data)\n",
    "    _, predicted = torch.max(output.data, 1)\n",
    "    total += target.size(0)\n",
    "    correct += (predicted == target).sum().item()\n",
    "print(f'Accuracy of the model on the full dataset: {100 * correct / total}%')"
   ]
  }
 ],
 "metadata": {
  "kernelspec": {
   "display_name": "semi-supervised-learning",
   "language": "python",
   "name": "python3"
  },
  "language_info": {
   "codemirror_mode": {
    "name": "ipython",
    "version": 3
   },
   "file_extension": ".py",
   "mimetype": "text/x-python",
   "name": "python",
   "nbconvert_exporter": "python",
   "pygments_lexer": "ipython3",
   "version": "3.13.7"
  }
 },
 "nbformat": 4,
 "nbformat_minor": 5
}
